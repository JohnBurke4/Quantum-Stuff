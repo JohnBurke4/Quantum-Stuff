{
 "cells": [
  {
   "cell_type": "code",
   "execution_count": 34,
   "id": "reasonable-determination",
   "metadata": {},
   "outputs": [],
   "source": [
    "#initialization\n",
    "import matplotlib.pyplot as plt\n",
    "import numpy as np\n",
    "\n",
    "# importing Qiskit\n",
    "from qiskit import IBMQ, Aer, assemble, transpile, quantum_info, visualization\n",
    "from qiskit import QuantumCircuit, ClassicalRegister, QuantumRegister\n",
    "from qiskit.providers.ibmq import least_busy\n",
    "\n",
    "# import basic plot tools\n",
    "from qiskit.visualization import plot_histogram\n",
    "from qiskit.circuit.library import QFT\n",
    "from numpy import pi\n",
    "import random\n",
    "\n",
    "from qiskit_textbook.problems import dj_problem_oracle"
   ]
  },
  {
   "cell_type": "code",
   "execution_count": 56,
   "id": "likely-optimization",
   "metadata": {},
   "outputs": [],
   "source": [
    "def oracle(qc, xReg, yReg, balanced=False):\n",
    "    # We do not have to do anything if the function is constant\n",
    "    if (balanced):\n",
    "        for i in range(0, len(xReg)):\n",
    "            qc.cx(xReg[i], yReg)\n",
    "            \n",
    "def dj_oracle(case, n):\n",
    "    # We need to make a QuantumCircuit object to return\n",
    "    # This circuit has n+1 qubits: the size of the input,\n",
    "    # plus one output qubit\n",
    "    oracle_qc = QuantumCircuit(n+1)\n",
    "    \n",
    "    # First, let's deal with the case in which oracle is balanced\n",
    "    if case == \"balanced\":\n",
    "        # First generate a random number that tells us which CNOTs to\n",
    "        # wrap in X-gates:\n",
    "        b = np.random.randint(1,2**n)\n",
    "        # Next, format 'b' as a binary string of length 'n', padded with zeros:\n",
    "        b_str = format(b, '0'+str(n)+'b')\n",
    "        # Next, we place the first X-gates. Each digit in our binary string \n",
    "        # corresponds to a qubit, if the digit is 0, we do nothing, if it's 1\n",
    "        # we apply an X-gate to that qubit:\n",
    "        for qubit in range(len(b_str)):\n",
    "            if b_str[qubit] == '1':\n",
    "                oracle_qc.x(qubit)\n",
    "        # Do the controlled-NOT gates for each qubit, using the output qubit \n",
    "        # as the target:\n",
    "        for qubit in range(n):\n",
    "            oracle_qc.cx(qubit, n)\n",
    "        # Next, place the final X-gates\n",
    "        for qubit in range(len(b_str)):\n",
    "            if b_str[qubit] == '1':\n",
    "                oracle_qc.x(qubit)\n",
    "\n",
    "    # Case in which oracle is constant\n",
    "    if case == \"constant\":\n",
    "        # First decide what the fixed output of the oracle will be\n",
    "        # (either always 0 or always 1)\n",
    "        output = np.random.randint(2)\n",
    "        if output == 1:\n",
    "            oracle_qc.x(n)\n",
    "    \n",
    "    oracle_gate = oracle_qc.to_gate()\n",
    "    oracle_gate.name = \"Oracle\" # To show when we display the circuit\n",
    "    return oracle_gate"
   ]
  },
  {
   "cell_type": "code",
   "execution_count": 58,
   "id": "comfortable-sierra",
   "metadata": {},
   "outputs": [
    {
     "data": {
      "image/png": "[encoded data removed]",
      "text/plain": [
       "<Figure size 504x360 with 1 Axes>"
      ]
     },
     "execution_count": 58,
     "metadata": {},
     "output_type": "execute_result"
    }
   ],
   "source": [
    "# Creating the neccesary registers\n",
    "size = 4\n",
    "xReg = QuantumRegister(size, name=\"x\")\n",
    "yReg = QuantumRegister(1, name=\"y\")\n",
    "output = ClassicalRegister(size, name=\"o\")\n",
    "qc = QuantumCircuit(xReg, yReg, output)\n",
    "\n",
    "# Prepare |y> = |1>\n",
    "qc.x(yReg)\n",
    "qc.barrier()\n",
    "\n",
    "# Apply Hadamard gate to all |x> and |y>\n",
    "qc.h(xReg)\n",
    "qc.h(yReg)\n",
    "qc.barrier()\n",
    "\n",
    "# Apply the oracle\n",
    "oracle(qc, xReg, yReg, True)\n",
    "qc.barrier()\n",
    "\n",
    "# Apply Hadamard gates to |x>\n",
    "qc.h(xReg)\n",
    "qc.barrier()\n",
    "\n",
    "# Measure |x>. If balanced will not measure |0>, if constant will only measure |0>\n",
    "qc.measure(xReg, output)\n",
    "\n",
    "# Run the simulator\n",
    "sim = Aer.get_backend('aer_simulator')\n",
    "circ = transpile(qc, sim)\n",
    "result = sim.run(circ).result()\n",
    "counts = result.get_counts()\n",
    "plot_histogram(counts)"
   ]
  },
  {
   "cell_type": "code",
   "execution_count": null,
   "id": "silver-sleeve",
   "metadata": {},
   "outputs": [],
   "source": []
  },
  {
   "cell_type": "code",
   "execution_count": null,
   "id": "outside-closer",
   "metadata": {},
   "outputs": [],
   "source": []
  }
 ],
 "metadata": {
  "kernelspec": {
   "display_name": "Python 3",
   "language": "python",
   "name": "python3"
  },
  "language_info": {
   "codemirror_mode": {
    "name": "ipython",
    "version": 3
   },
   "file_extension": ".py",
   "mimetype": "text/x-python",
   "name": "python",
   "nbconvert_exporter": "python",
   "pygments_lexer": "ipython3",
   "version": "3.8.10"
  }
 },
 "nbformat": 4,
 "nbformat_minor": 5
}
