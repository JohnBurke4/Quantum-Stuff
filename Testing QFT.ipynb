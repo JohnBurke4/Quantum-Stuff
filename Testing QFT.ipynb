{
 "cells": [
  {
   "cell_type": "code",
   "execution_count": 1,
   "id": "compound-subject",
   "metadata": {},
   "outputs": [],
   "source": [
    "#initialization\n",
    "import matplotlib.pyplot as plt\n",
    "import numpy as np\n",
    "\n",
    "# importing Qiskit\n",
    "from qiskit import IBMQ, Aer, assemble, transpile\n",
    "from qiskit import QuantumCircuit, ClassicalRegister, QuantumRegister\n",
    "from qiskit.providers.ibmq import least_busy\n",
    "\n",
    "# import basic plot tools\n",
    "from qiskit.visualization import plot_histogram\n",
    "from qiskit.circuit.library import QFT\n",
    "from numpy import pi"
   ]
  },
  {
   "cell_type": "code",
   "execution_count": 9,
   "id": "alike-wonder",
   "metadata": {},
   "outputs": [
    {
     "data": {
      "text/html": [
       "<pre style=\"word-wrap: normal;white-space: pre;background: #fff0;line-height: 1.1;font-family: &quot;Courier New&quot;,Courier,monospace\">          ┌───┐ ░  ░  ░ ┌─┐   \n",
       " input_0: ┤ H ├─░──░──░─┤M├───\n",
       "          ├───┤ ░  ░  ░ └╥┘┌─┐\n",
       " input_1: ┤ H ├─░──░──░──╫─┤M├\n",
       "          └───┘ ░  ░  ░  ║ └╥┘\n",
       "   anc_0: ──────░──░──░──╫──╫─\n",
       "                ░  ░  ░  ║  ║ \n",
       "result: 2/═══════════════╩══╩═\n",
       "                         0  1 </pre>"
      ],
      "text/plain": [
       "          ┌───┐ ░  ░  ░ ┌─┐   \n",
       " input_0: ┤ H ├─░──░──░─┤M├───\n",
       "          ├───┤ ░  ░  ░ └╥┘┌─┐\n",
       " input_1: ┤ H ├─░──░──░──╫─┤M├\n",
       "          └───┘ ░  ░  ░  ║ └╥┘\n",
       "   anc_0: ──────░──░──░──╫──╫─\n",
       "                ░  ░  ░  ║  ║ \n",
       "result: 2/═══════════════╩══╩═\n",
       "                         0  1 "
      ]
     },
     "execution_count": 9,
     "metadata": {},
     "output_type": "execute_result"
    }
   ],
   "source": [
    "# Addition circuit\n",
    "\n",
    "\n",
    "qr = QuantumRegister(2, 'input')\n",
    "anc = QuantumRegister(1, 'anc')\n",
    "cr = ClassicalRegister(2, 'result')\n",
    "qc = QuantumCircuit(qr, anc, cr)\n",
    "# qc.initialize([np.sqrt(1)/np.sqrt(2),0,1/np.sqrt(2),0], qr)\n",
    "# qc.initialize([np.sqrt(10)/np.sqrt(70),np.sqrt(10)/np.sqrt(70),np.sqrt(10)/np.sqrt(70),np.sqrt(10)/np.sqrt(70),\n",
    "#               0, np.sqrt(10)/np.sqrt(70), 0, 0,\n",
    "#                0, 0, 0, np.sqrt(10)/np.sqrt(70),\n",
    "#                0, 0, -np.sqrt(10)/np.sqrt(70), 0\n",
    "#               ], qr)\n",
    "# qc.initialize([np.sqrt(2)/np.sqrt(4),np.sqrt(2)/np.sqrt(4)], qr[1])\n",
    "# qc.x([])\n",
    "qc.h(qr)\n",
    "qc.barrier()\n",
    "# qc.ch(qr[1], qr[0])\n",
    "# qc.unitary(C, [0,1], label='C')\n",
    "# qc.unitary(C, [2,3], label='C')\n",
    "# qc.unitary(myOp1, [0,1], label='test')\n",
    "# qc.unitary(myOp2, [0,1], label='test')\n",
    "\n",
    "# qc.append(qft, [1, 3])\n",
    "qc.barrier()\n",
    "# qc.h(anc)\n",
    "# qc.swap(qr[1], anc[1])\n",
    "# qc.y(qr[0])\n",
    "qc.barrier()\n",
    "# qc.append(qftIn, [0,1])\n",
    "\n",
    "qc.measure(qr, cr)\n",
    "qc.draw()"
   ]
  },
  {
   "cell_type": "code",
   "execution_count": 10,
   "id": "chief-general",
   "metadata": {},
   "outputs": [
    {
     "name": "stdout",
     "output_type": "stream",
     "text": [
      "{'00': 255, '10': 269, '01': 252, '11': 248}\n"
     ]
    },
    {
     "data": {
      "image/png": "[encoded data removed]",
      "text/plain": [
       "<Figure size 504x360 with 1 Axes>"
      ]
     },
     "execution_count": 10,
     "metadata": {},
     "output_type": "execute_result"
    }
   ],
   "source": [
    "aer_sim = Aer.get_backend('aer_simulator')\n",
    "transpiled_grover_circuit = transpile(qc, aer_sim)\n",
    "qobj = assemble(transpiled_grover_circuit)\n",
    "results = aer_sim.run(qobj).result()\n",
    "counts = results.get_counts()\n",
    "print(counts)\n",
    "plot_histogram(counts)"
   ]
  },
  {
   "cell_type": "code",
   "execution_count": 126,
   "id": "changing-hacker",
   "metadata": {},
   "outputs": [],
   "source": [
    "def XOR(qc, a, b, output):\n",
    "    qc.cx(a, output)\n",
    "    qc.cx(b, output)"
   ]
  },
  {
   "cell_type": "code",
   "execution_count": 69,
   "id": "bound-turner",
   "metadata": {},
   "outputs": [],
   "source": [
    "clause_list = [[0,1],\n",
    "               [0,2],\n",
    "               [1,3],\n",
    "               [2,3]]"
   ]
  },
  {
   "cell_type": "code",
   "execution_count": 22,
   "id": "precise-princeton",
   "metadata": {},
   "outputs": [],
   "source": [
    "def sudoku_oracle(qc, clause_list, clause_qubits):\n",
    "    # compute\n",
    "    i = 0\n",
    "    for clause in clause_list:\n",
    "        XOR(qc, in_qubits[clause[0]], in_qubits[clause[1]], clause_qubits[i])\n",
    "        i += 1\n",
    "    \n",
    "    qc.mct(clause_qubits, out0)\n",
    "    \n",
    "    # uncompute\n",
    "    i = 0\n",
    "    for clause in clause_list:\n",
    "        XOR(qc, in_qubits[clause[0]], in_qubits[clause[1]], clause_qubits[i])\n",
    "        i += 1"
   ]
  },
  {
   "cell_type": "code",
   "execution_count": 98,
   "id": "missing-omega",
   "metadata": {},
   "outputs": [
    {
     "ename": "QiskitError",
     "evalue": "'Initialize parameter vector has 2 elements, therefore expects 1 qubits. However, 4 were provided.'",
     "output_type": "error",
     "traceback": [
      "\u001b[1;31m---------------------------------------------------------------------------\u001b[0m",
      "\u001b[1;31mQiskitError\u001b[0m                               Traceback (most recent call last)",
      "\u001b[1;32m<ipython-input-98-2b2268f96daa>\u001b[0m in \u001b[0;36m<module>\u001b[1;34m\u001b[0m\n\u001b[0;32m     21\u001b[0m \u001b[1;33m\u001b[0m\u001b[0m\n\u001b[0;32m     22\u001b[0m \u001b[0mqc\u001b[0m\u001b[1;33m.\u001b[0m\u001b[0mmeasure\u001b[0m\u001b[1;33m(\u001b[0m\u001b[0min_qubits\u001b[0m\u001b[1;33m,\u001b[0m \u001b[0moutputBits\u001b[0m\u001b[1;33m)\u001b[0m\u001b[1;33m\u001b[0m\u001b[1;33m\u001b[0m\u001b[0m\n\u001b[1;32m---> 23\u001b[1;33m \u001b[0mqc\u001b[0m\u001b[1;33m.\u001b[0m\u001b[0minitialize\u001b[0m\u001b[1;33m(\u001b[0m\u001b[1;33m[\u001b[0m\u001b[1;36m1\u001b[0m\u001b[1;33m,\u001b[0m \u001b[1;33m-\u001b[0m\u001b[1;36m1\u001b[0m\u001b[1;33m]\u001b[0m\u001b[1;33m/\u001b[0m\u001b[0mnp\u001b[0m\u001b[1;33m.\u001b[0m\u001b[0msqrt\u001b[0m\u001b[1;33m(\u001b[0m\u001b[1;36m2\u001b[0m\u001b[1;33m)\u001b[0m\u001b[1;33m,\u001b[0m \u001b[0min_qubits\u001b[0m\u001b[1;33m)\u001b[0m\u001b[1;33m\u001b[0m\u001b[1;33m\u001b[0m\u001b[0m\n\u001b[0m\u001b[0;32m     24\u001b[0m \u001b[1;33m\u001b[0m\u001b[0m\n\u001b[0;32m     25\u001b[0m \u001b[0mqc\u001b[0m\u001b[1;33m.\u001b[0m\u001b[0mdraw\u001b[0m\u001b[1;33m(\u001b[0m\u001b[0mfold\u001b[0m\u001b[1;33m=\u001b[0m\u001b[1;33m-\u001b[0m\u001b[1;36m1\u001b[0m\u001b[1;33m)\u001b[0m\u001b[1;33m\u001b[0m\u001b[1;33m\u001b[0m\u001b[0m\n",
      "\u001b[1;32m~\\AppData\\Local\\Packages\\PythonSoftwareFoundation.Python.3.8_qbz5n2kfra8p0\\LocalCache\\local-packages\\Python38\\site-packages\\qiskit\\extensions\\quantum_initializer\\initializer.py\u001b[0m in \u001b[0;36minitialize\u001b[1;34m(self, params, qubits)\u001b[0m\n\u001b[0;32m    457\u001b[0m \u001b[1;33m\u001b[0m\u001b[0m\n\u001b[0;32m    458\u001b[0m     \u001b[0mnum_qubits\u001b[0m \u001b[1;33m=\u001b[0m \u001b[1;32mNone\u001b[0m \u001b[1;32mif\u001b[0m \u001b[1;32mnot\u001b[0m \u001b[0misinstance\u001b[0m\u001b[1;33m(\u001b[0m\u001b[0mparams\u001b[0m\u001b[1;33m,\u001b[0m \u001b[0mint\u001b[0m\u001b[1;33m)\u001b[0m \u001b[1;32melse\u001b[0m \u001b[0mlen\u001b[0m\u001b[1;33m(\u001b[0m\u001b[0mqubits\u001b[0m\u001b[1;33m)\u001b[0m\u001b[1;33m\u001b[0m\u001b[1;33m\u001b[0m\u001b[0m\n\u001b[1;32m--> 459\u001b[1;33m     \u001b[1;32mreturn\u001b[0m \u001b[0mself\u001b[0m\u001b[1;33m.\u001b[0m\u001b[0mappend\u001b[0m\u001b[1;33m(\u001b[0m\u001b[0mInitialize\u001b[0m\u001b[1;33m(\u001b[0m\u001b[0mparams\u001b[0m\u001b[1;33m,\u001b[0m \u001b[0mnum_qubits\u001b[0m\u001b[1;33m)\u001b[0m\u001b[1;33m,\u001b[0m \u001b[0mqubits\u001b[0m\u001b[1;33m)\u001b[0m\u001b[1;33m\u001b[0m\u001b[1;33m\u001b[0m\u001b[0m\n\u001b[0m\u001b[0;32m    460\u001b[0m \u001b[1;33m\u001b[0m\u001b[0m\n\u001b[0;32m    461\u001b[0m \u001b[1;33m\u001b[0m\u001b[0m\n",
      "\u001b[1;32m~\\AppData\\Local\\Packages\\PythonSoftwareFoundation.Python.3.8_qbz5n2kfra8p0\\LocalCache\\local-packages\\Python38\\site-packages\\qiskit\\circuit\\quantumcircuit.py\u001b[0m in \u001b[0;36mappend\u001b[1;34m(self, instruction, qargs, cargs)\u001b[0m\n\u001b[0;32m   1083\u001b[0m \u001b[1;33m\u001b[0m\u001b[0m\n\u001b[0;32m   1084\u001b[0m         \u001b[0minstructions\u001b[0m \u001b[1;33m=\u001b[0m \u001b[0mInstructionSet\u001b[0m\u001b[1;33m(\u001b[0m\u001b[1;33m)\u001b[0m\u001b[1;33m\u001b[0m\u001b[1;33m\u001b[0m\u001b[0m\n\u001b[1;32m-> 1085\u001b[1;33m         \u001b[1;32mfor\u001b[0m \u001b[1;33m(\u001b[0m\u001b[0mqarg\u001b[0m\u001b[1;33m,\u001b[0m \u001b[0mcarg\u001b[0m\u001b[1;33m)\u001b[0m \u001b[1;32min\u001b[0m \u001b[0minstruction\u001b[0m\u001b[1;33m.\u001b[0m\u001b[0mbroadcast_arguments\u001b[0m\u001b[1;33m(\u001b[0m\u001b[0mexpanded_qargs\u001b[0m\u001b[1;33m,\u001b[0m \u001b[0mexpanded_cargs\u001b[0m\u001b[1;33m)\u001b[0m\u001b[1;33m:\u001b[0m\u001b[1;33m\u001b[0m\u001b[1;33m\u001b[0m\u001b[0m\n\u001b[0m\u001b[0;32m   1086\u001b[0m             \u001b[0minstructions\u001b[0m\u001b[1;33m.\u001b[0m\u001b[0madd\u001b[0m\u001b[1;33m(\u001b[0m\u001b[0mself\u001b[0m\u001b[1;33m.\u001b[0m\u001b[0m_append\u001b[0m\u001b[1;33m(\u001b[0m\u001b[0minstruction\u001b[0m\u001b[1;33m,\u001b[0m \u001b[0mqarg\u001b[0m\u001b[1;33m,\u001b[0m \u001b[0mcarg\u001b[0m\u001b[1;33m)\u001b[0m\u001b[1;33m,\u001b[0m \u001b[0mqarg\u001b[0m\u001b[1;33m,\u001b[0m \u001b[0mcarg\u001b[0m\u001b[1;33m)\u001b[0m\u001b[1;33m\u001b[0m\u001b[1;33m\u001b[0m\u001b[0m\n\u001b[0;32m   1087\u001b[0m         \u001b[1;32mreturn\u001b[0m \u001b[0minstructions\u001b[0m\u001b[1;33m\u001b[0m\u001b[1;33m\u001b[0m\u001b[0m\n",
      "\u001b[1;32m~\\AppData\\Local\\Packages\\PythonSoftwareFoundation.Python.3.8_qbz5n2kfra8p0\\LocalCache\\local-packages\\Python38\\site-packages\\qiskit\\extensions\\quantum_initializer\\initializer.py\u001b[0m in \u001b[0;36mbroadcast_arguments\u001b[1;34m(self, qargs, cargs)\u001b[0m\n\u001b[0;32m    337\u001b[0m \u001b[1;33m\u001b[0m\u001b[0m\n\u001b[0;32m    338\u001b[0m         \u001b[1;32mif\u001b[0m \u001b[0mself\u001b[0m\u001b[1;33m.\u001b[0m\u001b[0mnum_qubits\u001b[0m \u001b[1;33m!=\u001b[0m \u001b[0mlen\u001b[0m\u001b[1;33m(\u001b[0m\u001b[0mflat_qargs\u001b[0m\u001b[1;33m)\u001b[0m\u001b[1;33m:\u001b[0m\u001b[1;33m\u001b[0m\u001b[1;33m\u001b[0m\u001b[0m\n\u001b[1;32m--> 339\u001b[1;33m             raise QiskitError(\n\u001b[0m\u001b[0;32m    340\u001b[0m                 \u001b[1;34m\"Initialize parameter vector has %d elements, therefore expects %s \"\u001b[0m\u001b[1;33m\u001b[0m\u001b[1;33m\u001b[0m\u001b[0m\n\u001b[0;32m    341\u001b[0m                 \u001b[1;34m\"qubits. However, %s were provided.\"\u001b[0m\u001b[1;33m\u001b[0m\u001b[1;33m\u001b[0m\u001b[0m\n",
      "\u001b[1;31mQiskitError\u001b[0m: 'Initialize parameter vector has 2 elements, therefore expects 1 qubits. However, 4 were provided.'"
     ]
    }
   ],
   "source": [
    "in_qubits = QuantumRegister(4, name='v')\n",
    "clause_qubits = QuantumRegister(4, name='c')\n",
    "out0 = QuantumRegister(1, name='out')\n",
    "outputBits = ClassicalRegister(4, 'cbits')\n",
    "\n",
    "qc = QuantumCircuit(in_qubits, clause_qubits, out0, outputBits)\n",
    "\n",
    "# initiliaze out0 in |->        \n",
    "qc.initialize([1, -1]/np.sqrt(2), out0)\n",
    "\n",
    "# put everything in a superposition\n",
    "qc.h(in_qubits)  \n",
    "qc.barrier() \n",
    "\n",
    "sudoku_oracle(qc, clause_list, clause_qubits)\n",
    "\n",
    "qc.barrier()\n",
    "\n",
    "qc.h(out0)\n",
    "qc.append(qft, in_qubits)\n",
    "\n",
    "qc.measure(in_qubits, outputBits)\n",
    "\n",
    "qc.draw(fold=-1)\n",
    "\n",
    "aer_sim = Aer.get_backend('aer_simulator')\n",
    "transpiled_grover_circuit = transpile(qc, aer_sim)\n",
    "qobj = assemble(transpiled_grover_circuit)\n",
    "results = aer_sim.run(qobj).result()\n",
    "counts = results.get_counts()\n",
    "plot_histogram(counts)"
   ]
  },
  {
   "cell_type": "code",
   "execution_count": 92,
   "id": "polyphonic-married",
   "metadata": {},
   "outputs": [
    {
     "data": {
      "image/png": "[encoded data removed]",
      "text/plain": [
       "<Figure size 504x360 with 1 Axes>"
      ]
     },
     "execution_count": 92,
     "metadata": {},
     "output_type": "execute_result"
    }
   ],
   "source": [
    "aer_sim = Aer.get_backend('aer_simulator')\n",
    "transpiled_grover_circuit = transpile(qc, aer_sim)\n",
    "qobj = assemble(transpiled_grover_circuit)\n",
    "results = aer_sim.run(qobj).result()\n",
    "counts = results.get_counts()\n",
    "plot_histogram(counts)"
   ]
  },
  {
   "cell_type": "code",
   "execution_count": 149,
   "id": "painted-stability",
   "metadata": {},
   "outputs": [
    {
     "data": {
      "text/html": [
       "<pre style=\"word-wrap: normal;white-space: pre;background: #fff0;line-height: 1.1;font-family: &quot;Courier New&quot;,Courier,monospace\">        ┌───┐ ░ ┌───┐┌───┐┌───┐                ░ ┌─┐      \n",
       "   q_0: ┤ H ├─░─┤ H ├┤ X ├┤ X ├────────────────░─┤M├──────\n",
       "        ├───┤ ░ └───┘└───┘└─┬─┘┌───┐┌───┐┌───┐ ░ └╥┘┌─┐   \n",
       "   q_1: ┤ H ├─░─────────────■──┤ H ├┤ X ├┤ X ├─░──╫─┤M├───\n",
       "        ├───┤ ░                └───┘└───┘└─┬─┘ ░  ║ └╥┘┌─┐\n",
       "   q_2: ┤ H ├─░────────────────────────────■───░──╫──╫─┤M├\n",
       "        └───┘ ░                                ░  ║  ║ └╥┘\n",
       "meas: 3/══════════════════════════════════════════╩══╩══╩═\n",
       "                                                  0  1  2 </pre>"
      ],
      "text/plain": [
       "        ┌───┐ ░ ┌───┐┌───┐┌───┐                ░ ┌─┐      \n",
       "   q_0: ┤ H ├─░─┤ H ├┤ X ├┤ X ├────────────────░─┤M├──────\n",
       "        ├───┤ ░ └───┘└───┘└─┬─┘┌───┐┌───┐┌───┐ ░ └╥┘┌─┐   \n",
       "   q_1: ┤ H ├─░─────────────■──┤ H ├┤ X ├┤ X ├─░──╫─┤M├───\n",
       "        ├───┤ ░                └───┘└───┘└─┬─┘ ░  ║ └╥┘┌─┐\n",
       "   q_2: ┤ H ├─░────────────────────────────■───░──╫──╫─┤M├\n",
       "        └───┘ ░                                ░  ║  ║ └╥┘\n",
       "meas: 3/══════════════════════════════════════════╩══╩══╩═\n",
       "                                                  0  1  2 "
      ]
     },
     "execution_count": 149,
     "metadata": {},
     "output_type": "execute_result"
    }
   ],
   "source": [
    "# Random Power of 2\n",
    "\n",
    "qc = QuantumCircuit(3)\n",
    "qc.h([0,1,2])\n",
    "qc.barrier()\n",
    "\n",
    "qc.h(0)\n",
    "qc.x(0)\n",
    "qc.cx(1,0)\n",
    "qc.h(1)\n",
    "qc.x(1)\n",
    "qc.cx(2,1)\n",
    "\n",
    "\n",
    "qc.measure_all()\n",
    "qc.draw()\n"
   ]
  },
  {
   "cell_type": "code",
   "execution_count": 150,
   "id": "registered-accent",
   "metadata": {},
   "outputs": [
    {
     "data": {
      "image/png": "[encoded data removed]",
      "text/plain": [
       "<Figure size 504x360 with 1 Axes>"
      ]
     },
     "execution_count": 150,
     "metadata": {},
     "output_type": "execute_result"
    }
   ],
   "source": [
    "aer_sim = Aer.get_backend('aer_simulator')\n",
    "transpiled_grover_circuit = transpile(qc, aer_sim)\n",
    "qobj = assemble(transpiled_grover_circuit)\n",
    "results = aer_sim.run(qobj).result()\n",
    "counts = results.get_counts()\n",
    "plot_histogram(counts)"
   ]
  },
  {
   "cell_type": "code",
   "execution_count": 3,
   "id": "golden-malpractice",
   "metadata": {},
   "outputs": [],
   "source": [
    "from qiskit import transpile, QuantumCircuit\n",
    "import qiskit.quantum_info as qi\n",
    "\n",
    "from qiskit.providers.aer import AerSimulator\n",
    "from qiskit.providers.aer.noise import NoiseModel, amplitude_damping_error\n",
    "from qiskit.quantum_info.operators import Operator, Pauli\n",
    "from qiskit.tools.visualization import plot_histogram\n",
    "import math"
   ]
  },
  {
   "cell_type": "code",
   "execution_count": 4,
   "id": "spatial-chaos",
   "metadata": {},
   "outputs": [
    {
     "name": "stdout",
     "output_type": "stream",
     "text": [
      "False\n"
     ]
    }
   ],
   "source": [
    "cx_op = qi.Operator((1/np.sqrt(2)) * np.array([[1, 1j],[1, -1j]]))\n",
    "cx_opAd = qi.Operator(np.matrix((1/np.sqrt(2)) * np.array([[1, 1j],[1, -1j]])).getH())\n",
    "\n",
    "myOp = qi.Operator(\n",
    "    (1/np.sqrt(3)) * np.array([\n",
    "    [0,1,1,1],\n",
    "        [1,0,0,0],\n",
    "        [1,0,0,0],\n",
    "        [1,0,0,0]]\n",
    "    )\n",
    ")\n",
    "unitary = myOp.is_unitary()\n",
    "print(unitary)"
   ]
  },
  {
   "cell_type": "code",
   "execution_count": 5,
   "id": "entire-sigma",
   "metadata": {},
   "outputs": [
    {
     "name": "stdout",
     "output_type": "stream",
     "text": [
      "bMat\n",
      " Operator([[0.70710678+0.j        , 0.        +0.70710678j],\n",
      "          [0.70710678+0.j        , 0.        -0.70710678j]],\n",
      "         input_dims=(2,), output_dims=(2,))\n",
      "bMatAd\n",
      " Operator([[0.70710678-0.j        , 0.70710678-0.j        ],\n",
      "          [0.        -0.70710678j, 0.        +0.70710678j]],\n",
      "         input_dims=(2,), output_dims=(2,))\n",
      "True\n",
      "True\n"
     ]
    }
   ],
   "source": [
    "def normal1D(N):\n",
    "        a0 = 1 / np.sqrt(N)\n",
    "        a1 = np.sqrt(2/N)\n",
    "\n",
    "        result = np.zeros((N, N))\n",
    "\n",
    "        for u in range(0, N):\n",
    "            for n in range(0, N):\n",
    "                coef = a1\n",
    "                if u == 0:\n",
    "                    coef = a0\n",
    "\n",
    "                result[u, n] = coef * np.cos((2*n + 1) * u * pi / (2 * N))\n",
    "\n",
    "        return result\n",
    "\n",
    "bMat = qi.Operator((1/np.sqrt(2)) * np.array([[1, 1j],[1, -1j]]))\n",
    "print(\"bMat\\n\", bMat)\n",
    "bMatAd = qi.Operator(np.matrix((1/np.sqrt(2)) * np.array([[1, 1j],[1, -1j]])).getH())\n",
    "print(\"bMatAd\\n\", bMatAd)\n",
    "C = qi.Operator(\n",
    "    np.array(normal1D(4))\n",
    ")\n",
    "\n",
    "print(C.is_unitary())\n",
    "\n",
    "myOp1 = qi.Operator((1/np.sqrt(2)) * np.array(\n",
    "    [[1, 0, 1, 0],\n",
    "     [0, 1, 0, 1],\n",
    "     [-1, 0, 1, 0],\n",
    "     [0, -1, 0, 1]]\n",
    "))\n",
    "\n",
    "myOp2 = qi.Operator((1/np.sqrt(2)) * np.array(\n",
    "    [[1, 1, 0, 0],\n",
    "     [-1, 1, 0, 0],\n",
    "     [0, 0, 1, 1],\n",
    "     [0, 0, -1, 1]]\n",
    "))\n",
    "myOp3 = qi.Operator((1/np.sqrt(2)) * np.array(\n",
    "    [[1, 0, 0, 1],\n",
    "     [0, 1, 1, 0],\n",
    "     [0, -1, 1, 0],\n",
    "     [1, 0, 0, -1]]\n",
    "))\n",
    "\n",
    "print(myOp3.is_unitary())\n",
    "bMatI = qi.Operator(bMat.expand(qi.Operator(Pauli('I'))))\n",
    "bMatAdI = qi.Operator(bMatAd.expand(qi.Operator(Pauli('I'))))\n",
    "\n",
    "\n"
   ]
  },
  {
   "cell_type": "code",
   "execution_count": null,
   "id": "greater-novelty",
   "metadata": {},
   "outputs": [],
   "source": []
  }
 ],
 "metadata": {
  "kernelspec": {
   "display_name": "Python 3",
   "language": "python",
   "name": "python3"
  },
  "language_info": {
   "codemirror_mode": {
    "name": "ipython",
    "version": 3
   },
   "file_extension": ".py",
   "mimetype": "text/x-python",
   "name": "python",
   "nbconvert_exporter": "python",
   "pygments_lexer": "ipython3",
   "version": "3.8.10"
  }
 },
 "nbformat": 4,
 "nbformat_minor": 5
}
